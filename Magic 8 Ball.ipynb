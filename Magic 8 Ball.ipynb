{
 "cells": [
  {
   "cell_type": "code",
   "execution_count": null,
   "id": "318b05a3",
   "metadata": {},
   "outputs": [],
   "source": [
    "import random\n",
    "\n",
    "answers = [\"Бесспорно\", \"Мне кажется - да\", \"Пока неясно, попробуй снова\", \"Даже не думай\",\n",
    "           \"Предрешено\", \"Вероятнее всего\", \"Спроси позже\", \"Мой ответ - нет\",\n",
    "           \"Никаких сомнений\", \"Хорошие перспективы\", \"Лучше не рассказывать\", \"По моим данным - нет\",\n",
    "           \"Можешь быть уверен в этом\", \"Да\", \"Сконцентрируйся и спроси опять\", \"Весьма сомнительно\"]\n",
    "\n",
    "print('Привет Мир, я магический шар, и я знаю ответ на любой твой вопрос.')\n",
    "print('Как тебя зовут?')\n",
    "name=input()\n",
    "print('Привет', name.capitalize())\n",
    "while 0==0:\n",
    "    print('Чтобы ты хотел узнать?')\n",
    "    quest1=input()\n",
    "    print(random.choice(answers))\n",
    "    print('Еще вопросы? Да или Нет?')\n",
    "    quest2=input().lower()\n",
    "    if quest2=='да':\n",
    "        continue\n",
    "    else:\n",
    "        print('Возвращайся если возникнут вопросы!')\n",
    "    break    "
   ]
  }
 ],
 "metadata": {
  "kernelspec": {
   "display_name": "Python 3",
   "language": "python",
   "name": "python3"
  },
  "language_info": {
   "codemirror_mode": {
    "name": "ipython",
    "version": 3
   },
   "file_extension": ".py",
   "mimetype": "text/x-python",
   "name": "python",
   "nbconvert_exporter": "python",
   "pygments_lexer": "ipython3",
   "version": "3.8.8"
  }
 },
 "nbformat": 4,
 "nbformat_minor": 5
}
