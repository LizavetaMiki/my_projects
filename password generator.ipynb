{
 "cells": [
  {
   "cell_type": "code",
   "execution_count": null,
   "id": "fc620bcb",
   "metadata": {},
   "outputs": [],
   "source": [
    "import random as rnd\n",
    "\n",
    "def generate_passwords(long, chars):\n",
    "\n",
    "    '''генерируем пасс'''\n",
    "\n",
    "    password = ''\n",
    "\n",
    "    for _ in range(long):\n",
    "        password += rnd.choice(chars)\n",
    "\n",
    "    print(password)\n",
    "\n",
    "\n",
    "\n",
    "digits = '0123456789'\n",
    "lowercase_letters = 'abcdefghijklmnopqrstuvwxyz'\n",
    "uppercase_letters = 'ABCDEFGHIJKLMNOPQRSTUVWXYZ'\n",
    "punctuation = '!#$%&*+-=?@^_.'\n",
    "chars = ''\n",
    "\n",
    "count_pass = int(input('Сколько паролей сгенерировать? '))\n",
    "long_pass = int(input('Длинна пароля: '))\n",
    "\n",
    "if input('Нажми +, чтобы разрешить прописные буквы ') == '+':\n",
    "    chars += lowercase_letters\n",
    "\n",
    "if input('Нажми +, чтобы разрешить заглавные буквы ') == '+':\n",
    "    chars += uppercase_letters\n",
    "\n",
    "if input('Нажми +, чтобы разрешить цифры ') == '+':\n",
    "    chars += digits\n",
    "\n",
    "if input('Нажми +, чтобы разрешить символы ') == '+':\n",
    "    chars += punctuation\n",
    "\n",
    "for _ in range(count_pass):\n",
    "    generate_passwords(long_pass, chars)\n"
   ]
  },
  {
   "cell_type": "code",
   "execution_count": null,
   "id": "e585a7f8",
   "metadata": {},
   "outputs": [],
   "source": []
  }
 ],
 "metadata": {
  "kernelspec": {
   "display_name": "Python 3",
   "language": "python",
   "name": "python3"
  },
  "language_info": {
   "codemirror_mode": {
    "name": "ipython",
    "version": 3
   },
   "file_extension": ".py",
   "mimetype": "text/x-python",
   "name": "python",
   "nbconvert_exporter": "python",
   "pygments_lexer": "ipython3",
   "version": "3.8.8"
  }
 },
 "nbformat": 4,
 "nbformat_minor": 5
}
