{
 "cells": [
  {
   "cell_type": "code",
   "execution_count": null,
   "id": "74bb5642",
   "metadata": {},
   "outputs": [],
   "source": [
    "import random\n",
    "\n",
    "print('Добро пожаловать в числовую угадайку')\n",
    "\n",
    "\n",
    "def max_range():\n",
    "    while True:\n",
    "        n = input('\\nМаксимальное число? ')\n",
    "        if not n.isdigit() or int(n) < 1:\n",
    "            print('Введите целое число больше нуля!')\n",
    "            continue\n",
    "        return int(n)\n",
    "\n",
    "\n",
    "q = max_range()\n",
    "secret = random.randint(1, q)\n",
    "\n",
    "\n",
    "def get_num():\n",
    "    while True:\n",
    "        num = input(f'Введите число от 1 до {q}: ')\n",
    "        if not num.isdigit() or not (1 <= int(num) <= q):\n",
    "            print(f'А может быть все-таки введем целое число от 1 до {q}?')\n",
    "            continue\n",
    "        return int(num)\n",
    "\n",
    "\n",
    "def game():\n",
    "    x, total = 0, 1\n",
    "    while x != secret:\n",
    "        x = get_num()\n",
    "        if x > secret:\n",
    "            print('Ваше число больше загаданного, попробуйте еще разок')\n",
    "            total += 1\n",
    "            continue\n",
    "        elif x < secret:\n",
    "            print('Ваше число меньше загаданного, попробуйте еще разок')\n",
    "            total += 1\n",
    "            continue\n",
    "    print('Вы угадали, поздравляем!')\n",
    "    print('Количество попыток: ' + str(total))\n",
    "\n",
    "\n",
    "while True:\n",
    "    game()\n",
    "    print('Отличная игра, еще разок?')\n",
    "    ans = input('Да(Д) или Yes(Y) если желаете продолжить: ')\n",
    "    if ans.lower() in ('д', 'да', 'yes', 'y'):\n",
    "        q = max_range()\n",
    "        secret = random.randint(1, q)\n",
    "        continue\n",
    "    else:\n",
    "        break\n",
    "\n",
    "print('Спасибо, что играли в числовую угадайку. Еще увидимся...')"
   ]
  }
 ],
 "metadata": {
  "kernelspec": {
   "display_name": "Python 3",
   "language": "python",
   "name": "python3"
  },
  "language_info": {
   "codemirror_mode": {
    "name": "ipython",
    "version": 3
   },
   "file_extension": ".py",
   "mimetype": "text/x-python",
   "name": "python",
   "nbconvert_exporter": "python",
   "pygments_lexer": "ipython3",
   "version": "3.8.8"
  }
 },
 "nbformat": 4,
 "nbformat_minor": 5
}
